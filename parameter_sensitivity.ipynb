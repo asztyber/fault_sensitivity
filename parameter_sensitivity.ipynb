{
 "cells": [
  {
   "cell_type": "code",
   "execution_count": 1,
   "id": "70721434-2b13-4129-8df7-21117d0b69b0",
   "metadata": {},
   "outputs": [],
   "source": [
    "import faultdiagnosistoolbox as fdt\n",
    "import sympy as sym\n",
    "import numpy as np\n",
    "import pandas as pd\n",
    "import matplotlib.pyplot as plt\n",
    "import seaborn as sns"
   ]
  },
  {
   "cell_type": "code",
   "execution_count": 2,
   "id": "ac6f6621-3565-4877-9a98-1a946e61e929",
   "metadata": {},
   "outputs": [],
   "source": [
    "sns.set_style(\"whitegrid\")"
   ]
  },
  {
   "cell_type": "markdown",
   "id": "de7a44e6-bbdd-4b4d-a88c-e3f6a2762a70",
   "metadata": {},
   "source": [
    "## Parameter sensitivity analysis"
   ]
  },
  {
   "cell_type": "code",
   "execution_count": 3,
   "id": "13b688f6-238b-460f-a3e6-b2ab7868a903",
   "metadata": {},
   "outputs": [],
   "source": [
    "df_nf = pd.read_csv('data/nf_ex1.csv', sep=';', index_col=0)\n",
    "df_f1 = pd.read_csv('data/f1_ex1.csv', sep=';', index_col=0)\n",
    "df_f2 = pd.read_csv('data/f2_ex1.csv', sep=';', index_col=0)"
   ]
  },
  {
   "cell_type": "code",
   "execution_count": 4,
   "id": "e1338bc7-1d6e-4e44-9f0e-850fd3b42ae2",
   "metadata": {},
   "outputs": [],
   "source": [
    "def get_model(a, b, c, d, e):\n",
    "    modeldef = {\n",
    "        \"type\": \"Symbolic\",\n",
    "        \"x\": [\"x1\", \"x2\", \"x3\", \"dx1\", \"dx2\", \"dx3\"],\n",
    "        \"f\": [\"f1\", \"f2\"],\n",
    "        \"z\": [\"y1\", \"y3\", \"u\"]\n",
    "    }\n",
    "\n",
    "    sym.var(modeldef[\"x\"])\n",
    "    sym.var(modeldef[\"f\"])\n",
    "    sym.var(modeldef[\"z\"])\n",
    "\n",
    "    modeldef[\"rels\"] = [\n",
    "        -dx1 -a * x1 - b * x2 + c * u + f1,\n",
    "        -dx2 -0.2 * x2 + 0.1 * x1 - 0.1 * x3 + f2,\n",
    "        -dx3 - d * x3 + e * x2,\n",
    "        -y1 + x1,\n",
    "        -y3 + x3,\n",
    "        fdt.DiffConstraint(\"dx1\", \"x1\"),\n",
    "        fdt.DiffConstraint(\"dx2\", \"x2\"),\n",
    "        fdt.DiffConstraint(\"dx3\", \"x3\")\n",
    "    ]\n",
    "    return fdt.DiagnosisModel(modeldef, name=\"\")"
   ]
  },
  {
   "cell_type": "code",
   "execution_count": 5,
   "id": "3bb62002-7361-42cc-a6bd-7d11fcc599cd",
   "metadata": {},
   "outputs": [],
   "source": [
    "def compute_residual(dat, ResGen):\n",
    "    r = np.zeros(len(dat)) # N number of data points\n",
    "    state = {'x1': 0, 'x2': 0, 'x3': 0}\n",
    "    z = dat[['x1', 'x3', 'u']]\n",
    "    x1s = []\n",
    "    x3s = []\n",
    "    for k, zk in enumerate(z.itertuples()):\n",
    "        r[k], state = ResGen(zk[1:], state, None, 1)\n",
    "        x1s.append(state['x1'])\n",
    "        x3s.append(state['x3'])\n",
    "    return x1s, r"
   ]
  },
  {
   "cell_type": "code",
   "execution_count": 6,
   "id": "86bb519f-76ff-46e4-9695-47d5e556146c",
   "metadata": {},
   "outputs": [],
   "source": [
    "a0, b0, c0, d0, e0 = 0.2, 0.1, 1, 0.2, 0.1"
   ]
  },
  {
   "cell_type": "code",
   "execution_count": 7,
   "id": "a72ef4dd-4d24-4bd6-8a15-c411777d9c3f",
   "metadata": {},
   "outputs": [],
   "source": [
    "def build_res_gen(model, name='ResGen1_test'):\n",
    "    msos = model.MSO()\n",
    "    M1 = msos[1]\n",
    "    r = 3\n",
    "    M0 = [e for e in M1 if e != r]\n",
    "    Gamma =model.Matching(M0)\n",
    "    model.SeqResGen(Gamma, r, name)"
   ]
  },
  {
   "cell_type": "code",
   "execution_count": 8,
   "id": "0004d514-6706-46c3-aeec-f1359112f5ac",
   "metadata": {},
   "outputs": [],
   "source": [
    "mult = [i/10 for i in range(6, 15)]"
   ]
  },
  {
   "cell_type": "code",
   "execution_count": 9,
   "id": "9f3fec23-f6e3-41b7-9817-8ddba8ae48dc",
   "metadata": {},
   "outputs": [
    {
     "name": "stdout",
     "output_type": "stream",
     "text": [
      "Generating residual generator Res (Python, no batch)\n",
      "  Generating code for the exactly determined part: ....\n",
      "  Generating code for the residual equations\n",
      "  Writing residual generator file\n",
      "File Res.py generated.\n",
      "Generating residual generator Res (Python, no batch)\n",
      "  Generating code for the exactly determined part: ....\n",
      "  Generating code for the residual equations\n",
      "  Writing residual generator file\n",
      "File Res.py generated.\n",
      "Generating residual generator Res (Python, no batch)\n",
      "  Generating code for the exactly determined part: ....\n",
      "  Generating code for the residual equations\n",
      "  Writing residual generator file\n",
      "File Res.py generated.\n",
      "Generating residual generator Res (Python, no batch)\n",
      "  Generating code for the exactly determined part: ....\n",
      "  Generating code for the residual equations\n",
      "  Writing residual generator file\n",
      "File Res.py generated.\n",
      "Generating residual generator Res (Python, no batch)\n",
      "  Generating code for the exactly determined part: ....\n",
      "  Generating code for the residual equations\n",
      "  Writing residual generator file\n",
      "File Res.py generated.\n",
      "Generating residual generator Res (Python, no batch)\n",
      "  Generating code for the exactly determined part: ....\n",
      "  Generating code for the residual equations\n",
      "  Writing residual generator file\n",
      "File Res.py generated.\n",
      "Generating residual generator Res (Python, no batch)\n",
      "  Generating code for the exactly determined part: ....\n",
      "  Generating code for the residual equations\n",
      "  Writing residual generator file\n",
      "File Res.py generated.\n",
      "Generating residual generator Res (Python, no batch)\n",
      "  Generating code for the exactly determined part: ....\n",
      "  Generating code for the residual equations\n",
      "  Writing residual generator file\n",
      "File Res.py generated.\n",
      "Generating residual generator Res (Python, no batch)\n",
      "  Generating code for the exactly determined part: ....\n",
      "  Generating code for the residual equations\n",
      "  Writing residual generator file\n",
      "File Res.py generated.\n"
     ]
    }
   ],
   "source": [
    "r_ma = []\n",
    "r_ma_f1 =[]\n",
    "for m in mult:\n",
    "    model = get_model(a0, b0, c0, d0, m * e0)\n",
    "    build_res_gen(model, name='Res')\n",
    "    exec(open('Res.py').read())\n",
    "    x1s, r = compute_residual(df_f2, Res)\n",
    "    x1s_f1, r_f1 = compute_residual(df_f1, Res)\n",
    "    r_ma.append((np.abs(r[:100]).mean(), np.abs(r[100:]).mean()))\n",
    "    r_ma_f1.append(np.abs(r_f1[100:]).mean())"
   ]
  },
  {
   "cell_type": "code",
   "execution_count": 10,
   "id": "88da13eb-348c-4442-8e80-9079da6c2845",
   "metadata": {},
   "outputs": [
    {
     "data": {
      "image/png": "[encoded data removed]",
      "text/plain": [
       "<Figure size 600x200 with 1 Axes>"
      ]
     },
     "metadata": {},
     "output_type": "display_data"
    }
   ],
   "source": [
    "tmp = list(zip(*r_ma))\n",
    "r_ma_nf, r_ma_f2 = tmp[0], tmp[1]\n",
    "plt.figure(figsize=(6, 2))\n",
    "plt.plot(mult, r_ma_nf, label='no fault');\n",
    "plt.plot(mult, r_ma_f2, label='f2');\n",
    "plt.plot(mult, r_ma_f1, label='f1');\n",
    "plt.legend()\n",
    "plt.xlabel('Parameter value multiplier');\n",
    "plt.ylabel('$|\\overline{r_{mso2}}|$');\n",
    "plt.tight_layout()\n",
    "plt.savefig('pic/param_sensitivity_ex1.pdf', dpi=300, bbox_inches='tight')\n",
    "plt.show()"
   ]
  },
  {
   "cell_type": "code",
   "execution_count": null,
   "id": "caa9f9d6-7b52-4984-be5b-48e83ebe3e82",
   "metadata": {},
   "outputs": [],
   "source": []
  }
 ],
 "metadata": {
  "kernelspec": {
   "display_name": "ice",
   "language": "python",
   "name": "ice"
  },
  "language_info": {
   "codemirror_mode": {
    "name": "ipython",
    "version": 3
   },
   "file_extension": ".py",
   "mimetype": "text/x-python",
   "name": "python",
   "nbconvert_exporter": "python",
   "pygments_lexer": "ipython3",
   "version": "3.11.0rc1"
  }
 },
 "nbformat": 4,
 "nbformat_minor": 5
}
